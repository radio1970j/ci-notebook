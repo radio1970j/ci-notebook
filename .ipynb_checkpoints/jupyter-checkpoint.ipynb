{
 "cells": [
  {
   "cell_type": "markdown",
   "metadata": {},
   "source": [
    "# Jupyter Notebook\n",
    "## Introduction"
   ]
  },
  {
   "cell_type": "markdown",
   "metadata": {},
   "source": [
    "### Context Model\n",
    "![Jupyter Context Model](img/contextview.png \"context model\")"
   ]
  },
  {
   "cell_type": "markdown",
   "metadata": {},
   "source": [
    "## Architecture\n",
    "### Development Viewpoint"
   ]
  },
  {
   "cell_type": "markdown",
   "metadata": {},
   "source": [
    "#### Jupyter notebook overview\n",
    "![upyter notebook overview](img/jupyter-notebook-overview.png \"Jupyter notebook overview\")"
   ]
  },
  {
   "cell_type": "markdown",
   "metadata": {},
   "source": [
    "#### IPython Or Jupyter?\n",
    "https://www.datacamp.com/community/blog/ipython-jupyter"
   ]
  },
  {
   "cell_type": "markdown",
   "metadata": {},
   "source": [
    "#### High-level view\n",
    "![High-level view of Jupyter Notebook](img/global-overview.png \"global-overview\")"
   ]
  },
  {
   "cell_type": "markdown",
   "metadata": {},
   "source": [
    "#### IPython architecture\n",
    "![IPython architecture](img/building-custom-kernels-for-ipython-4-638.jpg \"IPython architecture\")"
   ]
  },
  {
   "cell_type": "markdown",
   "metadata": {},
   "source": [
    "#### jupyter client ZeroMQ kernel model\n",
    "![jupyter client ZeroMQ kernel model.jpg](img/jupyter-client-ZeroMQ-kernel-model.jpg \"jupyter-client-ZeroMQ-kernel-model.jpg\")"
   ]
  },
  {
   "cell_type": "markdown",
   "metadata": {},
   "source": [
    "#### Messaging in IPython\n",
    "![messaging in IPython.png](img/messaging-in-IPython.png \"messaging-in-IPython.png\")"
   ]
  },
  {
   "cell_type": "markdown",
   "metadata": {},
   "source": [
    "#### jupyter language kernel\n",
    "![jupyter language kernel](img/jupyter-language-kernel.png \"jupyter-language-kernel\")"
   ]
  },
  {
   "cell_type": "markdown",
   "metadata": {},
   "source": [
    "#### jupyter ansible\n",
    "![jupyter ansible](img/jupyter-ansible.jpg \"jupyter ansible\")"
   ]
  },
  {
   "cell_type": "markdown",
   "metadata": {},
   "source": [
    "### Module Structure Model\n",
    "![module structure and dependencies](img/module.png \"Module Structure\")"
   ]
  },
  {
   "cell_type": "markdown",
   "metadata": {},
   "source": [
    "#### Source code structure\n",
    "![Source code structure](img/source_code.png \"source code overview\")"
   ]
  },
  {
   "cell_type": "markdown",
   "metadata": {},
   "source": [
    "## Functional Viewpoint\n",
    "![The functional view of Jupyter project](img/functional_view.png \"Functional Viewpoint\")"
   ]
  },
  {
   "cell_type": "markdown",
   "metadata": {
    "collapsed": true
   },
   "source": [
    "## Technical Debt\n",
    "### Code Debt\n",
    "####  coding style\n",
    "    PEP8 guidelines\n",
    "####  tool\n",
    "    flake8\n",
    "#### Deprecation warnings\n",
    "    scovered while running the automated backend test suite\n",
    "#### TODO and FIXME\n",
    "     manually searching\n",
    "#### The Past: IPython\n",
    "![Lines of Code](img/evolution_loc.png)"
   ]
  },
  {
   "cell_type": "markdown",
   "metadata": {},
   "source": [
    "## The Future: JupyterLab\n",
    "![JupyterLab](img/jupyterlab.png \"JupyterLab\")"
   ]
  },
  {
   "cell_type": "code",
   "execution_count": null,
   "metadata": {
    "collapsed": true
   },
   "outputs": [],
   "source": []
  }
 ],
 "metadata": {
  "kernelspec": {
   "display_name": "Python 3",
   "language": "python",
   "name": "python3"
  },
  "language_info": {
   "codemirror_mode": {
    "name": "ipython",
    "version": 3
   },
   "file_extension": ".py",
   "mimetype": "text/x-python",
   "name": "python",
   "nbconvert_exporter": "python",
   "pygments_lexer": "ipython3",
   "version": "3.5.2"
  }
 },
 "nbformat": 4,
 "nbformat_minor": 2
}
