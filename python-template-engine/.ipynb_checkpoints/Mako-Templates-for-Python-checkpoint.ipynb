{
 "cells": [
  {
   "cell_type": "markdown",
   "metadata": {},
   "source": [
    "### Mako\n",
    "##### [github] Mako Templates for Python\n",
    "https://github.com/zzzeek/mako\n",
    "##### Mako Templates for Python\n",
    "http://www.makotemplates.org/\n",
    "##### Mako Documentation » Syntax\n",
    "http://docs.makotemplates.org/en/latest/syntax.html\n",
    "##### Quick Example of Inheritance in Templates with Mako: Using Next\n",
    "http://byatool.com/uncategorized/quick-example-of-inheritance-in-templates-with-mako-using-next/\n",
    "##### Emerge Technology: 4. テンプレートエンジン\n",
    "http://wiki.liris.org/article/python_intro/python04"
   ]
  },
  {
   "cell_type": "code",
   "execution_count": null,
   "metadata": {
    "collapsed": true
   },
   "outputs": [],
   "source": []
  }
 ],
 "metadata": {
  "kernelspec": {
   "display_name": "Python 3",
   "language": "python",
   "name": "python3"
  },
  "language_info": {
   "codemirror_mode": {
    "name": "ipython",
    "version": 3
   },
   "file_extension": ".py",
   "mimetype": "text/x-python",
   "name": "python",
   "nbconvert_exporter": "python",
   "pygments_lexer": "ipython3",
   "version": "3.5.2"
  }
 },
 "nbformat": 4,
 "nbformat_minor": 2
}
