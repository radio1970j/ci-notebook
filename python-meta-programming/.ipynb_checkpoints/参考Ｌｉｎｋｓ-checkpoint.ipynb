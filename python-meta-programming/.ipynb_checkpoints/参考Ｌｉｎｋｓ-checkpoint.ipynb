{
 "cells": [
  {
   "cell_type": "markdown",
   "metadata": {},
   "source": [
    "### LINKS\n",
    "#### My Source Code\n",
    "    (myanaconda2) ci@blueci:~/public/python/my/py-magic\n",
    "#### Books\n",
    "##### Python Cookbook: CHAPTER 9 Metaprogramming\n",
    "    S:\\home\\_電子図書\\言語\\Python/[Python.Cookbook(3rd,2013.5)].David.Beazley\n",
    "    /home/ci/public/python/study/python-cookbook/src/9\n",
    "#### Understanding Python metaclasses\n",
    "https://blog.ionelmc.ro/2015/02/09/understanding-python-metaclasses/\n",
    "#### Metaprogramming\n",
    "http://python-3-patterns-idioms-test.readthedocs.io/en/latest/Metaprogramming.html\n",
    "#### [qiita]Pythonでメタプログラミング\n",
    "https://qiita.com/fujimisakari/items/0d4786dd9ddeed4eb702\n",
    "#### Pythonのメタプログラミングについてのまとめと活用例\n",
    "https://tarosky.co.jp/tarog/1000\n",
    "#### [source] auto_property\n",
    "https://github.com/yunabe/codelab/tree/master/python/metaclass\n",
    "#### [python cookbook] Chapter 9. Metaprogramming\n",
    "http://chimera.labs.oreilly.com/books/1230000000393/ch09.html\n",
    "#### [pdf] Python 3 Metaprogramming\n",
    "http://www.dabeaz.com/py3meta/Py3Meta.pdf\n",
    "#### Pythonによる黒魔術入門\n",
    "https://www.slideshare.net/ssuser38b704/ll-lang-blackmagic\n",
    "#### [Tutor] The Best Way to go About with Self Modifying Code/Code Generation?\n",
    "https://mail.python.org/pipermail/tutor/2012-July/090243.html\n",
    "#### NAMED TUPLES (PYTHON RECIPE)\n",
    "http://code.activestate.com/recipes/500261-named-tuples/\n",
    "#### Instrumenting the AST\n",
    "http://www.dalkescientific.com/writings/diary/archive/2010/02/22/instrumenting_the_ast.html\n",
    "#### Wicked hack: Python bytecode tracing\n",
    "https://nedbatchelder.com/blog/200804/wicked_hack_python_bytecode_tracing.html\n",
    "#### byteplay Module Documentation\n",
    "https://wiki.python.org/moin/ByteplayDoc\n",
    "#### IMPLEMENTING THE MAKE STATEMENT BY HACKING BYTECODES (PYTHON RECIPE)\n",
    "http://code.activestate.com/recipes/498242/\n",
    "#### Code Objects and ConfigObj\n",
    "http://www.voidspace.org.uk/python/weblog/arch_d7_2006_11_18.shtml#e553\n",
    "#### [stackoverflow] Dynamic/runtime method creation (code generation) in Python\n",
    "https://stackoverflow.com/questions/533382/dynamic-runtime-method-creation-code-generation-in-python\n",
    "#### Self-Modifying Code in Python\n",
    "http://computationalive.blogspot.jp/2013/12/self-modifying-code-in-python.html\n",
    "#### [Wikipedia]  Self-modifying code\n",
    "https://en.wikipedia.org/wiki/Self-modifying_code\n",
    "#### What are the steps for making self-modifying code in Python?\n",
    "https://www.quora.com/What-are-the-steps-for-making-self-modifying-code-in-Python\n",
    "#### Self-modifying Code\n",
    "https://bytes.com/topic/python/answers/45133-self-modifying-code\n",
    "#### [source] replace_me\n",
    "https://github.com/boppreh/replace_me\n",
    "#### [github] automat - Self-service finite-state machines for the programmer on the go\n",
    "https://github.com/glyph/automat\n",
    "#### Advanced self-modifying code\n",
    "http://migeel.sk/blog/2007/08/02/advanced-self-modifying-code/\n",
    "#### How To: Write Self Updating Python Programs Using Pip and Git\n",
    "http://hackthology.com/how-to-write-self-updating-python-programs-using-pip-and-git.html\n"
   ]
  },
  {
   "cell_type": "code",
   "execution_count": null,
   "metadata": {
    "collapsed": true
   },
   "outputs": [],
   "source": []
  }
 ],
 "metadata": {
  "kernelspec": {
   "display_name": "Python 3",
   "language": "python",
   "name": "python3"
  },
  "language_info": {
   "codemirror_mode": {
    "name": "ipython",
    "version": 3
   },
   "file_extension": ".py",
   "mimetype": "text/x-python",
   "name": "python",
   "nbconvert_exporter": "python",
   "pygments_lexer": "ipython3",
   "version": "3.5.2"
  }
 },
 "nbformat": 4,
 "nbformat_minor": 2
}
