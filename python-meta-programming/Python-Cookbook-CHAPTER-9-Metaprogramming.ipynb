{
 "cells": [
  {
   "cell_type": "markdown",
   "metadata": {
    "deletable": true,
    "editable": true
   },
   "source": [
    "## 9.1. Putting a Wrapper Around a Function\n",
    "### Problem :  put a wrapper layer around a function\n",
    "You want to put a wrapper layer around a function that adds extra processing (e.g.,\n",
    "logging, timing, etc.).\n",
    "### Solution: define a decorator function.\n",
    "If you ever need to wrap a function with extra code, define a decorator function.\n",
    "### sourcecode\n",
    "(anaconda3) ci@blueci:~/public/python/my/py-magic/pycookbook9/preserving_function_metadata_when_writing_decorators/example.py\n",
    "### Discussion\n",
    "A decorator is a function that accepts a function as input and returns a new function as output."
   ]
  },
  {
   "cell_type": "markdown",
   "metadata": {
    "collapsed": false,
    "deletable": true,
    "editable": true
   },
   "source": [
    "![decorator_tutorial_code.png](pdf/decorator_tutorial_code.png \"decorator_tutorial_code.png\")"
   ]
  },
  {
   "cell_type": "code",
   "execution_count": 9,
   "metadata": {
    "ExecuteTime": {
     "end_time": "2017-11-05T11:04:27.309946Z",
     "start_time": "2017-11-05T11:04:27.250895Z"
    },
    "code_folding": [],
    "collapsed": false,
    "deletable": true,
    "editable": true
   },
   "outputs": [
    {
     "name": "stdout",
     "output_type": "stream",
     "text": [
      "countdown 0.008608818054199219\n",
      "Name:         countdown\n",
      "Docstring:    '\\n    Counts down\\n    '\n",
      "Annotations:  {'n': <class 'int'>}\n",
      "Signature:    (n:int)\n"
     ]
    }
   ],
   "source": [
    "import time\n",
    "from functools import wraps\n",
    "from inspect import signature\n",
    "\n",
    "def timethis(func):    # A decorator is a function that accepts a function as input\n",
    "    '''\n",
    "    Decorator that reports the execution time.\n",
    "    '''\n",
    "    @wraps(func) # the @wraps decorator copying decorator metadata eg.countdown.__name__ etc.\n",
    "    def wrapper(*args, **kwargs):       # accepts any arguments using *args and **kwargs\n",
    "        start = time.time()\n",
    "        result = func(*args, **kwargs)  # place a call to the original input function\n",
    "        end = time.time()\n",
    "        print(func.__name__, end-start) # place whatever extra code you want to add\n",
    "        return result\n",
    "    return wrapper     # returns a new function as output\n",
    "\n",
    "@timethis\n",
    "def countdown(n:int):  # function be decorated\n",
    "    '''\n",
    "    Counts down\n",
    "    '''\n",
    "    while n > 0:\n",
    "        n -= 1\n",
    "            \n",
    "if __name__ == '__main__':\n",
    "    countdown(100000)            # call the now decorated function    \n",
    "    # countdown.__wrapped__(100000)  # the @wraps decorator makes the wrapped function available to you in the __wrapped__ attribute.\n",
    "    print('Name:        ', countdown.__name__)\n",
    "    print('Docstring:   ', repr(countdown.__doc__))\n",
    "    print('Annotations: ', countdown.__annotations__)\n",
    "    # the __wrapped__ attribute also makes decorated functions properly expose the underlying signature of the wrapped function\n",
    "    print('Signature:   ', signature(countdown))"
   ]
  },
  {
   "cell_type": "markdown",
   "metadata": {},
   "source": [
    "## 9.3. Unwrapping a Decorator\n",
    "### Problem: to “undo” a decorator\n",
    "A decorator has been applied to a function, but you want to “undo” it, gaining access to the original unwrapped function.\n",
    "### Solution\n"
   ]
  }
 ],
 "metadata": {
  "hide_input": false,
  "kernelspec": {
   "display_name": "Python 3",
   "language": "python",
   "name": "python3"
  },
  "language_info": {
   "codemirror_mode": {
    "name": "ipython",
    "version": 3
   },
   "file_extension": ".py",
   "mimetype": "text/x-python",
   "name": "python",
   "nbconvert_exporter": "python",
   "pygments_lexer": "ipython3",
   "version": "3.5.2"
  },
  "latex_envs": {
   "LaTeX_envs_menu_present": true,
   "autocomplete": true,
   "bibliofile": "biblio.bib",
   "cite_by": "apalike",
   "current_citInitial": 1,
   "eqLabelWithNumbers": true,
   "eqNumInitial": 1,
   "hotkeys": {
    "equation": "Ctrl-E",
    "itemize": "Ctrl-I"
   },
   "labels_anchors": false,
   "latex_user_defs": false,
   "report_style_numbering": false,
   "user_envs_cfg": false
  },
  "nbTranslate": {
   "displayLangs": [
    "*"
   ],
   "hotkey": "alt-t",
   "langInMainMenu": true,
   "sourceLang": "en",
   "targetLang": "fr",
   "useGoogleTranslate": true
  },
  "toc": {
   "nav_menu": {},
   "number_sections": true,
   "sideBar": true,
   "skip_h1_title": false,
   "toc_cell": false,
   "toc_position": {},
   "toc_section_display": "block",
   "toc_window_display": false
  },
  "varInspector": {
   "cols": {
    "lenName": 16,
    "lenType": 16,
    "lenVar": 40
   },
   "kernels_config": {
    "python": {
     "delete_cmd_postfix": "",
     "delete_cmd_prefix": "del ",
     "library": "var_list.py",
     "varRefreshCmd": "print(var_dic_list())"
    },
    "r": {
     "delete_cmd_postfix": ") ",
     "delete_cmd_prefix": "rm(",
     "library": "var_list.r",
     "varRefreshCmd": "cat(var_dic_list()) "
    }
   },
   "types_to_exclude": [
    "module",
    "function",
    "builtin_function_or_method",
    "instance",
    "_Feature"
   ],
   "window_display": false
  }
 },
 "nbformat": 4,
 "nbformat_minor": 2
}
