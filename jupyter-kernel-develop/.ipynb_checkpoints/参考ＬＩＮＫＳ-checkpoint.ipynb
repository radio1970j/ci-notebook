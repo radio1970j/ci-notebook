{
 "cells": [
  {
   "cell_type": "markdown",
   "metadata": {},
   "source": [
    "### LINKS\n",
    "#### Making kernels for Jupyter\n",
    "http://jupyter-client.readthedocs.io/en/latest/kernels.html\n",
    "#### Making simple Python wrapper kernels\n",
    "http://ipython.org/ipython-doc/dev/development/wrapperkernels.html\n",
    "#### Simple example kernel\n",
    "https://github.com/dsblank/simple_kernel\n",
    "#### Creating Language Kernels for IPython\n",
    "http://andrew.gibiansky.com/blog/ipython/ipython-kernels/\n",
    "#### Dev: Testing kernels against message specification\n",
    "https://github.com/ipython/ipython/wiki/Dev:-Testing-kernels-against-message-specification\n",
    "#### jupyter_kernel_test\n",
    "https://github.com/jupyter/jupyter_kernel_test\n",
    "#### metakernel\n",
    "https://devhub.io/repos/Calysto-metakernel\n",
    "#### scriptr;\n",
    "https://www.scriptr.io/\n",
    "#### Running Jupyter/Python on a Raspberry Pi Zero with a Pimoroni Enviro-pHAT sensor add-on attached\n",
    "http://research.ganse.org/datasci/envhat_jupyter/\n",
    "#### Define Blocks\n",
    "https://developers.google.com/blockly/guides/create-custom-blocks/define-blocks\n",
    "#### Skulpt - an entirely in-browser implementation of Python\n",
    "http://www.skulpt.org/\n",
    "#### BlockPy – Introductory Python Programming Blockly Environment\n",
    "https://github.com/RealTimeWeb/blockpy\n",
    "#### Code Generators\n",
    "https://developers.google.com/blockly/guides/configure/web/code-generators#generating_code"
   ]
  },
  {
   "cell_type": "code",
   "execution_count": null,
   "metadata": {
    "collapsed": true
   },
   "outputs": [],
   "source": []
  }
 ],
 "metadata": {
  "kernelspec": {
   "display_name": "Python 3",
   "language": "python",
   "name": "python3"
  },
  "language_info": {
   "codemirror_mode": {
    "name": "ipython",
    "version": 3
   },
   "file_extension": ".py",
   "mimetype": "text/x-python",
   "name": "python",
   "nbconvert_exporter": "python",
   "pygments_lexer": "ipython3",
   "version": "3.5.2"
  }
 },
 "nbformat": 4,
 "nbformat_minor": 2
}
