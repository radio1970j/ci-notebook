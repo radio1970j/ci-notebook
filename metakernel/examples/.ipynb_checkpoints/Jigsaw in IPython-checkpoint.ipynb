{
 "cells": [
  {
   "cell_type": "markdown",
   "metadata": {},
   "source": [
    "# Jigsaw in IPython\n",
    "\n",
    "This notebook demonstrates using the %jigsaw magic in IPython.\n",
    "\n",
    "Dependencies:\n",
    "\n",
    "1. system running IPython or Jupyter\n",
    "2. [metakernel](https://github.com/Calysto/metakernel)\n",
    "\n",
    "## Overview\n",
    "\n",
    "Jigsaw is a combination of Google's Blockly drag-and-drop interface in the browser with Python. With Jigsaw, you can:\n",
    "\n",
    "* do many Python tasks in the block-only view\n",
    "* have access to predefined Python variables\n",
    "* create functions and variables in Jigsaw, but use them in Python cells\n",
    "\n",
    "To use in IPython, you need to add the metakernel magics for IPython:"
   ]
  },
  {
   "cell_type": "code",
   "execution_count": 1,
   "metadata": {
    "collapsed": false
   },
   "outputs": [],
   "source": [
    "from metakernel import register_ipython_magics\n",
    "register_ipython_magics()"
   ]
  },
  {
   "cell_type": "markdown",
   "metadata": {},
   "source": [
    "Next, let's define some Python things:"
   ]
  },
  {
   "cell_type": "code",
   "execution_count": 2,
   "metadata": {
    "collapsed": true
   },
   "outputs": [],
   "source": [
    "x = 42"
   ]
  },
  {
   "cell_type": "code",
   "execution_count": 3,
   "metadata": {
    "collapsed": true
   },
   "outputs": [],
   "source": [
    "def myfunc(a, b):\n",
    "    return a + b"
   ]
  },
  {
   "cell_type": "markdown",
   "metadata": {},
   "source": [
    "Now, we create a Jigsaw workspace named \"workspace1\". This will create two files in this subdirectory:\n",
    "\n",
    "1. workspace1.html\n",
    "2. workspace1.xml\n",
    "\n",
    "Once you have the Jigsaw workspace showing, then you can start dragging blocks around:"
   ]
  },
  {
   "cell_type": "code",
   "execution_count": 4,
   "metadata": {
    "collapsed": false
   },
   "outputs": [
    {
     "name": "stderr",
     "output_type": "stream",
     "text": [
      "Error in calling magic 'jigsaw' on line:\n",
      "    HTTP Error 404: Not Found\n",
      "    args: ['Python']\n",
      "    kwargs: {'workspace': 'workspace1'}\n",
      "Traceback (most recent call last):\n",
      "  File \"/moon-vlo/jupyter/source/develop/Calysto/metakernel/metakernel/magic.py\", line 82, in call_magic\n",
      "    func(*args, **kwargs)\n",
      "  File \"/moon-vlo/jupyter/source/develop/Calysto/metakernel/metakernel/magics/jigsaw_magic.py\", line 44, in line_jigsaw\n",
      "    html_text = download(\"http://localhost:8000/\" + language + \".html\")\n",
      "  File \"/moon-vlo/jupyter/source/develop/Calysto/metakernel/metakernel/magics/jigsaw_magic.py\", line 18, in download\n",
      "    g = urlopen(url)\n",
      "  File \"/home/ci/.pyenv/versions/anaconda3-4.4.0/envs/anaconda3/lib/python3.5/urllib/request.py\", line 163, in urlopen\n",
      "    return opener.open(url, data, timeout)\n",
      "  File \"/home/ci/.pyenv/versions/anaconda3-4.4.0/envs/anaconda3/lib/python3.5/urllib/request.py\", line 472, in open\n",
      "    response = meth(req, response)\n",
      "  File \"/home/ci/.pyenv/versions/anaconda3-4.4.0/envs/anaconda3/lib/python3.5/urllib/request.py\", line 582, in http_response\n",
      "    'http', request, response, code, msg, hdrs)\n",
      "  File \"/home/ci/.pyenv/versions/anaconda3-4.4.0/envs/anaconda3/lib/python3.5/urllib/request.py\", line 510, in error\n",
      "    return self._call_chain(*args)\n",
      "  File \"/home/ci/.pyenv/versions/anaconda3-4.4.0/envs/anaconda3/lib/python3.5/urllib/request.py\", line 444, in _call_chain\n",
      "    result = func(*args)\n",
      "  File \"/home/ci/.pyenv/versions/anaconda3-4.4.0/envs/anaconda3/lib/python3.5/urllib/request.py\", line 590, in http_error_default\n",
      "    raise HTTPError(req.full_url, code, msg, hdrs, fp)\n",
      "urllib.error.HTTPError: HTTP Error 404: Not Found\n",
      "\n",
      "%jigsaw LANGUAGE - show visual code editor/generator\n",
      "\n",
      "This line magic will allow visual code editing or generation.\n",
      "\n",
      "Examples:\n",
      "    %jigsaw Processing\n",
      "    %jigsaw Python\n",
      "    %jigsaw Processing --workspace workspace1\n",
      "\n",
      "Options:\n",
      "-------\n",
      "-w --workspace use the provided name as workspace filename [default: None]\n"
     ]
    }
   ],
   "source": [
    "%jigsaw Python --workspace workspace1"
   ]
  },
  {
   "cell_type": "markdown",
   "metadata": {},
   "source": [
    "<img src=\"workspace1.png\"></img>\n",
    "\n",
    "In the above example, I pulled a print block from the Text category on the left, and a variable block from the Variables category. Snapping them together forms a valid program. I then clicked on the \"Run\" button to run the code. x got its value from the Python cell above.\n",
    "\n",
    "Let's create another workspace:"
   ]
  },
  {
   "cell_type": "code",
   "execution_count": 5,
   "metadata": {
    "collapsed": false
   },
   "outputs": [
    {
     "name": "stderr",
     "output_type": "stream",
     "text": [
      "Error in calling magic 'jigsaw' on line:\n",
      "    HTTP Error 404: Not Found\n",
      "    args: ['Python']\n",
      "    kwargs: {'workspace': 'workspace2'}\n",
      "Traceback (most recent call last):\n",
      "  File \"/moon-vlo/jupyter/source/develop/Calysto/metakernel/metakernel/magic.py\", line 82, in call_magic\n",
      "    func(*args, **kwargs)\n",
      "  File \"/moon-vlo/jupyter/source/develop/Calysto/metakernel/metakernel/magics/jigsaw_magic.py\", line 44, in line_jigsaw\n",
      "    html_text = download(\"http://localhost:8000/\" + language + \".html\")\n",
      "  File \"/moon-vlo/jupyter/source/develop/Calysto/metakernel/metakernel/magics/jigsaw_magic.py\", line 18, in download\n",
      "    g = urlopen(url)\n",
      "  File \"/home/ci/.pyenv/versions/anaconda3-4.4.0/envs/anaconda3/lib/python3.5/urllib/request.py\", line 163, in urlopen\n",
      "    return opener.open(url, data, timeout)\n",
      "  File \"/home/ci/.pyenv/versions/anaconda3-4.4.0/envs/anaconda3/lib/python3.5/urllib/request.py\", line 472, in open\n",
      "    response = meth(req, response)\n",
      "  File \"/home/ci/.pyenv/versions/anaconda3-4.4.0/envs/anaconda3/lib/python3.5/urllib/request.py\", line 582, in http_response\n",
      "    'http', request, response, code, msg, hdrs)\n",
      "  File \"/home/ci/.pyenv/versions/anaconda3-4.4.0/envs/anaconda3/lib/python3.5/urllib/request.py\", line 510, in error\n",
      "    return self._call_chain(*args)\n",
      "  File \"/home/ci/.pyenv/versions/anaconda3-4.4.0/envs/anaconda3/lib/python3.5/urllib/request.py\", line 444, in _call_chain\n",
      "    result = func(*args)\n",
      "  File \"/home/ci/.pyenv/versions/anaconda3-4.4.0/envs/anaconda3/lib/python3.5/urllib/request.py\", line 590, in http_error_default\n",
      "    raise HTTPError(req.full_url, code, msg, hdrs, fp)\n",
      "urllib.error.HTTPError: HTTP Error 404: Not Found\n",
      "\n",
      "%jigsaw LANGUAGE - show visual code editor/generator\n",
      "\n",
      "This line magic will allow visual code editing or generation.\n",
      "\n",
      "Examples:\n",
      "    %jigsaw Processing\n",
      "    %jigsaw Python\n",
      "    %jigsaw Processing --workspace workspace1\n",
      "\n",
      "Options:\n",
      "-------\n",
      "-w --workspace use the provided name as workspace filename [default: None]\n"
     ]
    }
   ],
   "source": [
    "%jigsaw Python --workspace workspace2"
   ]
  },
  {
   "cell_type": "markdown",
   "metadata": {},
   "source": [
    "<img src=\"workspace2.png\"></img>\n",
    "\n",
    "In the above example, I dragged the following blocks:\n",
    "    \n",
    "1. print from Text\n",
    "2. expression from Python\n",
    "3. set ... to from Variables\n",
    "4. sqrt(2) from Math\n",
    "\n",
    "I had to click on the set block and create a new variable named \"sqrt_two\". I also had to click on the math constant block to change pi to sqrt(2).\n",
    "\n",
    "If you click on the \"Generate Python Code\" it will create a new cell below:"
   ]
  },
  {
   "cell_type": "code",
   "execution_count": 6,
   "metadata": {
    "collapsed": false
   },
   "outputs": [
    {
     "name": "stdout",
     "output_type": "stream",
     "text": [
      "11\n"
     ]
    }
   ],
   "source": [
    "import math\n",
    "\n",
    "\n",
    "print((myfunc(5, 6)))\n",
    "sqrt_two = math.sqrt(2)\n"
   ]
  },
  {
   "cell_type": "markdown",
   "metadata": {},
   "source": [
    "If you enter the variable named \"sqrt_two\" in the following cell and run it, you get as output the result from running the Jigsaw blocks:"
   ]
  },
  {
   "cell_type": "code",
   "execution_count": 7,
   "metadata": {
    "collapsed": false
   },
   "outputs": [
    {
     "data": {
      "text/plain": [
       "1.4142135623730951"
      ]
     },
     "execution_count": 7,
     "metadata": {},
     "output_type": "execute_result"
    }
   ],
   "source": [
    "sqrt_two"
   ]
  },
  {
   "cell_type": "markdown",
   "metadata": {},
   "source": [
    "Try it out!"
   ]
  },
  {
   "cell_type": "code",
   "execution_count": null,
   "metadata": {
    "collapsed": true
   },
   "outputs": [],
   "source": []
  }
 ],
 "metadata": {
  "kernelspec": {
   "display_name": "Python 3",
   "language": "python",
   "name": "python3"
  },
  "language_info": {
   "codemirror_mode": {
    "name": "ipython",
    "version": 3
   },
   "file_extension": ".py",
   "mimetype": "text/x-python",
   "name": "python",
   "nbconvert_exporter": "python",
   "pygments_lexer": "ipython3",
   "version": "3.5.2"
  }
 },
 "nbformat": 4,
 "nbformat_minor": 0
}
