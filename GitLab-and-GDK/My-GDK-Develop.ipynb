{
 "cells": [
  {
   "cell_type": "markdown",
   "metadata": {
    "deletable": true,
    "editable": true
   },
   "source": [
    "## My Account\n",
    "#### My GitLab Account\n",
    "##### ID (E-Mail)\n",
    "radio1970j@gmail.com\n",
    "##### password\n",
    "sh..y\n",
    "##### home\n",
    "https://gitlab.com/radio1970j\n",
    "\n",
    "#### My GitHub Account\n",
    "##### ID (E-Mail)\n",
    "radio1970j@gmail.com\n",
    "##### password\n",
    "sh..y\n",
    "##### home\n",
    "https://github.com/radio1970j"
   ]
  },
  {
   "cell_type": "markdown",
   "metadata": {
    "deletable": true,
    "editable": true
   },
   "source": [
    "## GDK 作成\n",
    "### GDK  ソースコードを取得する\n",
    "```\n",
    "    (/home/ci/.pyenv/versions/anaconda3-4.2.0/envs/anaconda2) ci@debian:~/docker-world/master.maker$ git clone https://gitlab.com/gitlab-org/gitlab-development-kit\n",
    "```"
   ]
  },
  {
   "cell_type": "markdown",
   "metadata": {
    "deletable": true,
    "editable": true
   },
   "source": [
    "### Vagrant build\n",
    "##### install vagrant on debian\n",
    "    See \"install vagrant on debian\"\n",
    "##### build a docker image and start the container\n",
    "```\n",
    "(/home/ci/.pyenv/versions/anaconda3-4.2.0/envs/anaconda2) ci@debian:~/docker-world/master.maker$ cd gitlab-development-kit\n",
    "(/home/ci/.pyenv/versions/anaconda3-4.2.0/envs/anaconda2) ci@debian:~/docker-world/master.maker/gitlab-development-kit$ vagrant up --provider=docker\n",
    "Installing the 'facter' plugin. This can take a few minutes...\n",
    "Fetching: vagrant-share-1.1.9.gem (100%)\n",
    "Fetching: facter-2.5.1.gem (100%)\n",
    "Installed the plugin 'facter (2.5.1)'!\n",
    "Bringing machine 'default' up with 'docker' provider...\n",
    "==> default: Building the container from a Dockerfile...\n",
    "    default: Sending build context to Docker daemon   12.8kB\n",
    "    default: Step 1/11 : FROM ubuntu:xenial\n",
    "    default: xenial: Pulling from library/ubuntu\n",
    "    ..........................\n",
    "    default: Image: f792f3fb1557\n",
    "==> default: Creating the container...\n",
    "    default:   Name: gitlab-development-kit_default_1509776138\n",
    "    default:  Image: f792f3fb1557\n",
    "    default: Volume: /home/ci/docker-world/blue-env/moon-vlo/blue-image-maker/master.maker/gitlab-development-kit/gitlab:/vagrant/gitlab\n",
    "    default: Volume: /home/ci/docker-world/blue-env/moon-vlo/blue-image-maker/master.maker/gitlab-development-kit/go-gitlab-shell:/vagrant/go-gitlab-shell\n",
    "    default: Volume: /home/ci/docker-world/blue-env/moon-vlo/blue-image-maker/master.maker/gitlab-development-kit/gitlab-runner:/vagrant/gitlab-runner\n",
    "    default:   Port: 3000:3000\n",
    "    default:   Port: 127.0.0.1:2222:22\n",
    "    default:\n",
    "    default: Container created: 55b3cdd7c92b5001\n",
    "==> default: Starting container...\n",
    "==> default: Waiting for machine to boot. This may take a few minutes...\n",
    "    default: SSH address: 127.0.0.1:2222\n",
    "    default: SSH username: vagrant\n",
    "    default: SSH auth method: private key\n",
    "    .........................\n",
    "==> default: Machine booted and ready!\n",
    "==> default: Rsyncing folder: /home/ci/docker-world/blue-env/moon-vlo/blue-image-maker/master.maker/gitlab-development-kit/ => /vagrant\n",
    "==> default:   - Exclude: [\".vagrant/\", \"gitlab\", \"postgresql\", \"gitlab-shell\", \"gitlab-runner\"]\n",
    "==> default: Running provisioner: shell...    \n",
    "    default: Adding /vagrant to trusted_directories in /home/vagrant/.gdk.yml\n",
    "(/home/ci/.pyenv/versions/anaconda3-4.2.0/envs/anaconda2) ci@debian:~/docker-world/master.maker/gitlab-development-kit$\n",
    "\n",
    "(/home/ci/.pyenv/versions/anaconda3-4.2.0/envs/anaconda2) ci@debian:~$ docker images\n",
    "REPOSITORY                                         TAG                 IMAGE ID            CREATED             SIZE\n",
    "<none>                                             <none>              f792f3fb1557        30 minutes ago      315MB\n",
    "\n",
    "(/home/ci/.pyenv/versions/anaconda3-4.2.0/envs/anaconda2) ci@debian:~$ vagrant global-status\n",
    "id       name    provider state   directory\n",
    "-------------------------------------------------------------------------------------------------------------------------------\n",
    "63e66e2  default docker running /home/ci/docker-world/blue-env/moon-vlo/blue-image-maker/master.maker/gitlab-development-kit\n",
    "\n",
    "(/home/ci/.pyenv/versions/anaconda3-4.2.0/envs/anaconda2) ci@debian:~$ vagrant status 63e66e2\n",
    "Current machine states:\n",
    "\n",
    "default                   running (docker)\n",
    "\n",
    "The container is created and running. You can stop it using\n",
    "`vagrant halt`, see logs with `vagrant docker-logs`, and\n",
    "kill/destroy it with `vagrant destroy`.\n",
    "\n",
    "```"
   ]
  },
  {
   "cell_type": "markdown",
   "metadata": {
    "deletable": true,
    "editable": true
   },
   "source": [
    "##### Vagrant SSH Login\n",
    "```\n",
    "(/home/ci/.pyenv/versions/anaconda3-4.2.0/envs/anaconda2) ci@debian:~$ vagrant ssh 63e66e2\n",
    "Welcome to Ubuntu 16.04.3 LTS (GNU/Linux 3.16.0-4-amd64 x86_64)\n",
    "vagrant@55b3cdd7c92b:~$\n",
    "```"
   ]
  },
  {
   "cell_type": "markdown",
   "metadata": {
    "deletable": true,
    "editable": true
   },
   "source": [
    "##### Vagrant exit\n",
    "```\n",
    "vagrant@55b3cdd7c92b:~/gitlab-development-kit/gitlab$ exit\n",
    "logout\n",
    "Connection to 127.0.0.1 closed.\n",
    "```"
   ]
  },
  {
   "cell_type": "markdown",
   "metadata": {
    "deletable": true,
    "editable": true
   },
   "source": [
    "##### Vagrant halt\n",
    "```\n",
    "(/home/ci/.pyenv/versions/anaconda3-4.2.0/envs/anaconda2) ci@debian:~$ vagrant halt 63e66e2\n",
    "==> default: Stopping container...\n",
    "```"
   ]
  },
  {
   "cell_type": "markdown",
   "metadata": {
    "deletable": true,
    "editable": true
   },
   "source": [
    "##### Vagrant up\n",
    "```\n",
    "(/home/ci/.pyenv/versions/anaconda3-4.2.0/envs/anaconda2) ci@debian:~/docker-world/master.maker/gitlab-development-kit$ vagrant up\n",
    "```"
   ]
  },
  {
   "cell_type": "markdown",
   "metadata": {
    "deletable": true,
    "editable": true
   },
   "source": [
    "### Install GDK (develop in a fork)\n",
    "#####  gdk install gitlab_repo=https://gitlab.com/radio1970j/gitlab-ce.git\n",
    "```\n",
    "vagrant@55b3cdd7c92b:~/gitlab-development-kit$ pwd\n",
    "/home/vagrant/gitlab-development-kit\n",
    "vagrant@55b3cdd7c92b:~/gitlab-development-kit$ gdk install gitlab_repo=https://gitlab.com/radio1970j/gitlab-ce.git\n",
    "```\n",
    "##### support/set-gitlab-upstream\n",
    "```\n",
    "vagrant@55b3cdd7c92b:~/gitlab-development-kit$ support/set-gitlab-upstream\n",
    "```"
   ]
  },
  {
   "cell_type": "markdown",
   "metadata": {
    "deletable": true,
    "editable": true
   },
   "source": [
    "##### Update gitlab and gitlab-shell repositories\n",
    "```\n",
    "vagrant@55b3cdd7c92b:~/gitlab-development-kit$ gdk update\n",
    "```\n",
    "If you want to push changes from upstream to your fork, run __gdk update__ and then __git push origin__ from the __gitlab__ directory."
   ]
  },
  {
   "cell_type": "markdown",
   "metadata": {
    "deletable": true,
    "editable": true
   },
   "source": [
    "##### Update configuration files created by gitlab-development-kit\n",
    "```\n",
    "vagrant@55b3cdd7c92b:~/gitlab-development-kit$ gdk reconfigure\n",
    "```"
   ]
  },
  {
   "cell_type": "markdown",
   "metadata": {
    "deletable": true,
    "editable": true
   },
   "source": [
    "### Start GitLab\n",
    "#### Start GitLab and all required service\n",
    "```\n",
    "    vagrant@55b3cdd7c92b:~/gitlab-development-kit$ gdk run\n",
    "```"
   ]
  },
  {
   "cell_type": "markdown",
   "metadata": {
    "deletable": true,
    "editable": true
   },
   "source": [
    "#### To access GitLab\n",
    "##### URL\n",
    "http://debian:3000<br>\n",
    "The development login credentials are __root__ and __5iveL!fe__\n",
    "##### Invalid login or password in development\n",
    "```\n",
    "vagrant@55b3cdd7c92b:~/gitlab-development-kit$ cd gitlab\n",
    "vagrant@55b3cdd7c92b:~/gitlab-development-kit$ bundle exec rake db:seed_fu \n",
    "```"
   ]
  },
  {
   "cell_type": "markdown",
   "metadata": {
    "deletable": true,
    "editable": true
   },
   "source": [
    "### Vagrant development details\n",
    "* Open the development environment by running vagrant up & vagrant ssh\n",
    "(from an elevated command prompt if on Windows).\n",
    "* When using Docker, vagrant can ask you about password. The default password\n",
    "is tcuser(You may be asked to type-in the password several times, but for different operations thus you need to key in the same password: tcuser).\n",
    "* Follow the general development guidelines but running the\n",
    "commands in the vagrant ssh session.\n",
    "* Files in the gitlab, go-gitlab-shell and gitlab-runner folders will be synced between the\n",
    "host OS & guest OS so can be edited on either the host (under this folder) or\n",
    "guest OS (under ~/gitlab-development-kit/).\n",
    "* When you want to shutdown Vagrant run __exit__ from the guest OS and then\n",
    "__vagrant halt__ from the host OS."
   ]
  },
  {
   "cell_type": "markdown",
   "metadata": {
    "deletable": true,
    "editable": true
   },
   "source": [
    "### Vagrant troubleshooting\n",
    "* On some setups the shared folder will have the wrong user. This is detected\n",
    "by the Vagrantfile and you should sudo su - build to switch to the correct\n",
    "user in that case.\n",
    "* If you get a \"Timed out while waiting for the machine to boot\" message, you\n",
    "likely forgot to disable Hyper-V or\n",
    "enable virtualization technology via the BIOS.\n",
    "* If you have continuous problems starting Vagrant, you can uncomment\n",
    "vb.gui = true to view any error messages.\n",
    "* If you have problems running support/edit-gitlab.yml (bash script despite\n",
    "file extension), see https://stackoverflow.com/a/5514351/1233435.\n",
    "* If you have errors with symlinks or Ruby during initialization, make sure you\n",
    "ran vagrant up from an elevated command prompt (Windows users).\n",
    "* If gdk run fails due to webpack failing because the port is already in use\n",
    "(after gdk install succeeds in a vagrant box), make sure you terminated all\n",
    "running node processed (spawned from gdk install) with killall node."
   ]
  },
  {
   "cell_type": "markdown",
   "metadata": {
    "deletable": true,
    "editable": true
   },
   "source": [
    "## GDK LINKS\n",
    "### 公式資料\n",
    "##### GitLab Development Kit (README)\n",
    "https://gitlab.com/gitlab-org/gitlab-development-kit/blob/master/README.md\n",
    "#####  instructions for using Vagrant with VirtualBox or Docker\n",
    "https://gitlab.com/gitlab-org/gitlab-development-kit/blob/master/doc/vagrant.md\n",
    "##### How to use GitLab Development Kit\n",
    "https://gitlab.com/gitlab-org/gitlab-development-kit/blob/master/doc/howto/README.md\n",
    "\n",
    "### Misc\n",
    "##### Setting up Gitlab-Dev-Kit on a VM with Ubuntu 16.04\n",
    "https://www.linkedin.com/pulse/setting-up-gitlab-dev-kit-vm-ubuntu-1604-nick-kaufmann\n"
   ]
  },
  {
   "cell_type": "markdown",
   "metadata": {
    "deletable": true,
    "editable": true
   },
   "source": [
    "## Vagrant\n",
    "### 公式資料\n",
    "##### Vagrant - Development Environments Made Easy\n",
    "https://www.vagrantup.com/\n",
    "### install vagrant on debian\n",
    "```\n",
    "    (/home/ci/.pyenv/versions/anaconda3-4.2.0/envs/anaconda2) ci@debian:~$ pwd\n",
    "    /home/ci\n",
    "    $ wget https://releases.hashicorp.com/vagrant/2.0.1/vagrant_2.0.1_x86_64.deb\n",
    "    $ sudo dpkg -i vagrant_2.0.1_x86_64.deb\n",
    "    $ vagrant -v\n",
    "    Vagrant 2.0.1\n",
    "    $ rm vagrant_2.0.1_x86_64.deb\n",
    "```"
   ]
  },
  {
   "cell_type": "markdown",
   "metadata": {
    "deletable": true,
    "editable": true
   },
   "source": [
    "##### Vagrant Architecture\n",
    "![Vagrant_Architecture.png](image/Vagrant_Architecture.png \"Vagrant_Architecture.png\")"
   ]
  },
  {
   "cell_type": "markdown",
   "metadata": {
    "deletable": true,
    "editable": true
   },
   "source": [
    "### Docker Provider\n",
    "##### Vagrant Docker Provider\n",
    "![Vagrant-Docker-Provider.png](image/Vagrant-Docker-Provider.png \"Vagrant-Docker-Provider.png\")\n",
    "##### First steps with provisioning of Docker containers using Vagrant as provider\n",
    "https://technology.amis.nl/2015/08/22/first-steps-with-provisioning-of-docker-containers-using-vagrant-as-provider/"
   ]
  },
  {
   "cell_type": "markdown",
   "metadata": {
    "deletable": true,
    "editable": true
   },
   "source": [
    "### Docker\n",
    "##### Docker Host OS\n",
    "Docker-Host-OS.png\n",
    "![Docker-Host-OS.png](image/Docker-Host-OS.png \"Docker-Host-OS.png\")\n",
    "##### Docker Architecture\n",
    "![Docker-Architecture.svg](image/Docker-Architecture.svg \"Docker-Architecture.svg\")\n",
    "Docker-Architecture.svg\n",
    "##### Docker Networking\n",
    "https://medium.com/@itmarketplace.net/docker-networking-ee71ca9f3711\n",
    "##### Docker container networking\n",
    "https://docs.docker.com/engine/userguide/networking/"
   ]
  }
 ],
 "metadata": {
  "hide_input": false,
  "kernelspec": {
   "display_name": "Python 3",
   "language": "python",
   "name": "python3"
  },
  "language_info": {
   "codemirror_mode": {
    "name": "ipython",
    "version": 3
   },
   "file_extension": ".py",
   "mimetype": "text/x-python",
   "name": "python",
   "nbconvert_exporter": "python",
   "pygments_lexer": "ipython3",
   "version": "3.5.2"
  },
  "latex_envs": {
   "LaTeX_envs_menu_present": true,
   "autocomplete": true,
   "bibliofile": "biblio.bib",
   "cite_by": "apalike",
   "current_citInitial": 1,
   "eqLabelWithNumbers": true,
   "eqNumInitial": 1,
   "hotkeys": {
    "equation": "Ctrl-E",
    "itemize": "Ctrl-I"
   },
   "labels_anchors": false,
   "latex_user_defs": false,
   "report_style_numbering": false,
   "user_envs_cfg": false
  },
  "nbTranslate": {
   "displayLangs": [
    "*"
   ],
   "hotkey": "alt-t",
   "langInMainMenu": true,
   "sourceLang": "en",
   "targetLang": "fr",
   "useGoogleTranslate": true
  },
  "toc": {
   "nav_menu": {},
   "number_sections": true,
   "sideBar": true,
   "skip_h1_title": false,
   "toc_cell": false,
   "toc_position": {},
   "toc_section_display": "block",
   "toc_window_display": false
  },
  "varInspector": {
   "cols": {
    "lenName": 16,
    "lenType": 16,
    "lenVar": 40
   },
   "kernels_config": {
    "python": {
     "delete_cmd_postfix": "",
     "delete_cmd_prefix": "del ",
     "library": "var_list.py",
     "varRefreshCmd": "print(var_dic_list())"
    },
    "r": {
     "delete_cmd_postfix": ") ",
     "delete_cmd_prefix": "rm(",
     "library": "var_list.r",
     "varRefreshCmd": "cat(var_dic_list()) "
    }
   },
   "types_to_exclude": [
    "module",
    "function",
    "builtin_function_or_method",
    "instance",
    "_Feature"
   ],
   "window_display": false
  }
 },
 "nbformat": 4,
 "nbformat_minor": 2
}
